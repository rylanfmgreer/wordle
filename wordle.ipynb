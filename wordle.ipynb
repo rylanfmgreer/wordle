{
  "nbformat": 4,
  "nbformat_minor": 0,
  "metadata": {
    "colab": {
      "name": "wordle.ipynb",
      "provenance": [],
      "toc_visible": true
    },
    "kernelspec": {
      "name": "python3",
      "display_name": "Python 3"
    },
    "language_info": {
      "name": "python"
    }
  },
  "cells": [
    {
      "cell_type": "markdown",
      "source": [
        "## 1. Get five letter words"
      ],
      "metadata": {
        "id": "nM3P-8fY7mJp"
      }
    },
    {
      "cell_type": "code",
      "source": [
        "!pip install english-words\n",
        "import english_words\n",
        "word_list = english_words.english_words_lower_alpha_set\n",
        "\n",
        "word_length = 5\n",
        "flw = set([word for word in word_list if \n",
        "           (len(word) == word_length) &\n",
        "           (word[0] == word[0].lower()) for obj in word_list])\n",
        "flw.remove('u.s.a')\n",
        "n_words = len(flw)"
      ],
      "metadata": {
        "colab": {
          "base_uri": "https://localhost:8080/"
        },
        "id": "NKr1VmgLr45L",
        "outputId": "7cad94e5-2adf-4537-c431-5a151c9cd509"
      },
      "execution_count": 27,
      "outputs": [
        {
          "output_type": "stream",
          "name": "stdout",
          "text": [
            "Requirement already satisfied: english-words in /usr/local/lib/python3.7/dist-packages (1.0.4)\n"
          ]
        }
      ]
    },
    {
      "cell_type": "markdown",
      "source": [
        "## 2. Define functions for winnowing down word list"
      ],
      "metadata": {
        "id": "hq0_5TGPCJ4s"
      }
    },
    {
      "cell_type": "code",
      "source": [
        "# define function to get similarity\n",
        "\n",
        "def similarity(base_word, guess):\n",
        "  \"\"\"\n",
        "    assumes:\n",
        "    1. suppose a letter is repeated. we can have it green in\n",
        "       one spot and yellow in another.\n",
        "  \"\"\"\n",
        "  similarity_dict = {}\n",
        "  similarity_dict['matches'] = {}\n",
        "  similarity_dict['others'] = []\n",
        "  similarity_dict['not_in'] = []\n",
        "\n",
        "  for i in range( len(base_word) ):\n",
        "\n",
        "    # green square\n",
        "    matched = False\n",
        "    if base_word[i] == guess[i]:\n",
        "      similarity_dict['matches'][i] = base_word[i]\n",
        "      matched = True\n",
        "\n",
        "    # yellow square or black square\n",
        "    base_word_other = base_word[:i] + base_word[:(i + 1)]\n",
        "    base_word_other = set(base_word_other)\n",
        "    if guess[i] in base_word_other and not matched:\n",
        "      similarity_dict['others'].append(guess[i])\n",
        "    else:\n",
        "      similarity_dict['not_in'].append(guess[i])\n",
        "\n",
        "  return similarity_dict\n",
        "\n",
        "# test\n",
        "similarity('tiger', 'plane')"
      ],
      "metadata": {
        "colab": {
          "base_uri": "https://localhost:8080/"
        },
        "id": "1p7rS4bt7teB",
        "outputId": "630600af-1970-4f04-b091-cd260de6df69"
      },
      "execution_count": 2,
      "outputs": [
        {
          "output_type": "execute_result",
          "data": {
            "text/plain": [
              "{'matches': {}, 'not_in': ['p', 'l', 'a', 'n'], 'others': ['e']}"
            ]
          },
          "metadata": {},
          "execution_count": 2
        }
      ]
    },
    {
      "cell_type": "code",
      "source": [
        "# define function to see if a word is OK\n",
        "# based on ONE similarity dict\n",
        "\n",
        "def accept_singular(word, similarity_dict):\n",
        "  \"\"\"\n",
        "    function to determine if a word is \"knocked out\" based on what we know.\n",
        "  \"\"\"\n",
        "  matches = similarity_dict['matches']\n",
        "  unmatched = list(word)\n",
        "  for key in matches:\n",
        "    if word[key] != matches[key]:\n",
        "      return False\n",
        "    else:\n",
        "      unmatched.remove(matches[key])\n",
        "\n",
        "  for ch in similarity_dict['not_in']:\n",
        "    if ch in unmatched:\n",
        "      return False\n",
        "\n",
        "  for ch in similarity_dict['others']:\n",
        "    if ch not in unmatched:\n",
        "      return False\n",
        "    else:\n",
        "      unmatched.remove(ch)\n",
        "\n",
        "  return True\n",
        "\n",
        "def accept(word, similarity_dicts):\n",
        "  \"\"\"\n",
        "    wrapper for accept_singular\n",
        "  \"\"\"\n",
        "  for d in similarity_dicts:\n",
        "    if not accept_singular(word, d):\n",
        "      return False\n",
        "  return True\n",
        "\n",
        "sim = similarity('tiger', 'plane')\n",
        "accept('tiser', [sim])"
      ],
      "metadata": {
        "colab": {
          "base_uri": "https://localhost:8080/"
        },
        "id": "rvMBlTKe_UlH",
        "outputId": "f3fa44fb-a489-497f-e359-6cd7b8cf4c2f"
      },
      "execution_count": 3,
      "outputs": [
        {
          "output_type": "execute_result",
          "data": {
            "text/plain": [
              "True"
            ]
          },
          "metadata": {},
          "execution_count": 3
        }
      ]
    },
    {
      "cell_type": "code",
      "source": [
        "# function to take the dictionaries and narrow down the possible words remaining\n",
        "def dicts_to_possible_words(dicts, possible_words):\n",
        "  \"\"\"\n",
        "    with the dictionary of information given,\n",
        "    kill the words that are no longer possible.\n",
        "  \"\"\"\n",
        "  words_still_possible = possible_words.copy()\n",
        "  words_to_remove = []\n",
        "  for word in words_still_possible:\n",
        "    if not accept(word, dicts):\n",
        "      words_to_remove.append(word)\n",
        "\n",
        "  for word in words_to_remove:\n",
        "    words_still_possible.remove(word)\n",
        "  return words_still_possible\n",
        "\n",
        "dicts = [sim]\n",
        "possible_words = flw\n",
        "new_possible = dicts_to_possible_words(dicts, possible_words)"
      ],
      "metadata": {
        "id": "1LxGgCaR7v7V"
      },
      "execution_count": 4,
      "outputs": []
    },
    {
      "cell_type": "code",
      "source": [
        "dicts = [\n",
        " \n",
        "]"
      ],
      "metadata": {
        "id": "6tcJSTrykFuA"
      },
      "execution_count": 5,
      "outputs": []
    },
    {
      "cell_type": "markdown",
      "source": [
        "## Greedy algorithm to guess first word\n",
        "(running time is currently 0.5 days)"
      ],
      "metadata": {
        "id": "0LwCU-3vHOfw"
      }
    },
    {
      "cell_type": "code",
      "source": [
        "max_cut = 9000 ** 3 # higher than any possible score\n",
        "best_word = ''\n",
        "scores = {}\n",
        "c = 0\n",
        "for base_word in flw:\n",
        "  remaining_dict = flw - set((base_word, ))\n",
        "  s = 0\n",
        "  print('base word: {a}; best word so far: {b}; words completed: {c}; words remaining: {d}'.format(a=base_word, b=best_word, c=c, d=(len(flw) - c)))\n",
        "  \n",
        "  # calculate average narrowing down\n",
        "  for guess in remaining_dict:\n",
        "    sim = [similarity(base_word, guess)]\n",
        "    rem = dicts_to_possible_words(sim, flw)\n",
        "    s += len(rem)\n",
        "\n",
        "  # replace the best word, if this is the best word\n",
        "  if s < max_cut:\n",
        "    best_word = base_word\n",
        "    max_cut = s\n",
        "\n",
        "  # store in dictionary\n",
        "  scores[base_word] = s\n",
        "  c += 1\n",
        "\n",
        "best_word\n",
        "  "
      ],
      "metadata": {
        "colab": {
          "base_uri": "https://localhost:8080/",
          "height": 1000
        },
        "id": "sD6ph74VGPtt",
        "outputId": "62c7f4d5-839f-4b92-9d86-6b9bdd4e34f3"
      },
      "execution_count": 20,
      "outputs": [
        {
          "output_type": "stream",
          "name": "stdout",
          "text": [
            "base word: scoop; best word so far: ; words completed: 0; words remaining: 3213\n",
            "base word: weiss; best word so far: scoop; words completed: 1; words remaining: 3212\n",
            "base word: denny; best word so far: scoop; words completed: 2; words remaining: 3211\n",
            "base word: worst; best word so far: denny; words completed: 3; words remaining: 3210\n",
            "base word: buteo; best word so far: denny; words completed: 4; words remaining: 3209\n",
            "base word: whiff; best word so far: buteo; words completed: 5; words remaining: 3208\n",
            "base word: olden; best word so far: buteo; words completed: 6; words remaining: 3207\n",
            "base word: dross; best word so far: olden; words completed: 7; words remaining: 3206\n",
            "base word: hymen; best word so far: olden; words completed: 8; words remaining: 3205\n",
            "base word: plume; best word so far: olden; words completed: 9; words remaining: 3204\n",
            "base word: bunny; best word so far: olden; words completed: 10; words remaining: 3203\n",
            "base word: dirty; best word so far: olden; words completed: 11; words remaining: 3202\n",
            "base word: felon; best word so far: dirty; words completed: 12; words remaining: 3201\n",
            "base word: sadie; best word so far: dirty; words completed: 13; words remaining: 3200\n",
            "base word: daisy; best word so far: dirty; words completed: 14; words remaining: 3199\n",
            "base word: gruff; best word so far: dirty; words completed: 15; words remaining: 3198\n",
            "base word: slake; best word so far: dirty; words completed: 16; words remaining: 3197\n",
            "base word: dance; best word so far: dirty; words completed: 17; words remaining: 3196\n",
            "base word: comic; best word so far: dirty; words completed: 18; words remaining: 3195\n",
            "base word: amide; best word so far: dirty; words completed: 19; words remaining: 3194\n",
            "base word: idaho; best word so far: dirty; words completed: 20; words remaining: 3193\n",
            "base word: nolan; best word so far: dirty; words completed: 21; words remaining: 3192\n",
            "base word: clang; best word so far: dirty; words completed: 22; words remaining: 3191\n",
            "base word: shack; best word so far: dirty; words completed: 23; words remaining: 3190\n",
            "base word: timid; best word so far: dirty; words completed: 24; words remaining: 3189\n",
            "base word: spend; best word so far: dirty; words completed: 25; words remaining: 3188\n",
            "base word: serve; best word so far: dirty; words completed: 26; words remaining: 3187\n",
            "base word: elton; best word so far: dirty; words completed: 27; words remaining: 3186\n",
            "base word: micro; best word so far: dirty; words completed: 28; words remaining: 3185\n",
            "base word: farad; best word so far: dirty; words completed: 29; words remaining: 3184\n",
            "base word: talus; best word so far: dirty; words completed: 30; words remaining: 3183\n",
            "base word: black; best word so far: dirty; words completed: 31; words remaining: 3182\n",
            "base word: quint; best word so far: dirty; words completed: 32; words remaining: 3181\n",
            "base word: boone; best word so far: dirty; words completed: 33; words remaining: 3180\n",
            "base word: award; best word so far: dirty; words completed: 34; words remaining: 3179\n",
            "base word: ilona; best word so far: dirty; words completed: 35; words remaining: 3178\n",
            "base word: tithe; best word so far: dirty; words completed: 36; words remaining: 3177\n",
            "base word: befog; best word so far: dirty; words completed: 37; words remaining: 3176\n",
            "base word: upset; best word so far: dirty; words completed: 38; words remaining: 3175\n",
            "base word: fluff; best word so far: dirty; words completed: 39; words remaining: 3174\n",
            "base word: breve; best word so far: dirty; words completed: 40; words remaining: 3173\n",
            "base word: bette; best word so far: dirty; words completed: 41; words remaining: 3172\n",
            "base word: neigh; best word so far: dirty; words completed: 42; words remaining: 3171\n",
            "base word: snowy; best word so far: dirty; words completed: 43; words remaining: 3170\n",
            "base word: jesse; best word so far: dirty; words completed: 44; words remaining: 3169\n",
            "base word: chock; best word so far: dirty; words completed: 45; words remaining: 3168\n",
            "base word: peepy; best word so far: dirty; words completed: 46; words remaining: 3167\n",
            "base word: pinch; best word so far: dirty; words completed: 47; words remaining: 3166\n",
            "base word: anion; best word so far: dirty; words completed: 48; words remaining: 3165\n",
            "base word: twice; best word so far: dirty; words completed: 49; words remaining: 3164\n",
            "base word: harem; best word so far: dirty; words completed: 50; words remaining: 3163\n",
            "base word: stilt; best word so far: dirty; words completed: 51; words remaining: 3162\n",
            "base word: inlay; best word so far: dirty; words completed: 52; words remaining: 3161\n",
            "base word: sable; best word so far: dirty; words completed: 53; words remaining: 3160\n",
            "base word: infer; best word so far: dirty; words completed: 54; words remaining: 3159\n",
            "base word: altar; best word so far: dirty; words completed: 55; words remaining: 3158\n",
            "base word: booze; best word so far: dirty; words completed: 56; words remaining: 3157\n",
            "base word: sieve; best word so far: dirty; words completed: 57; words remaining: 3156\n",
            "base word: percy; best word so far: dirty; words completed: 58; words remaining: 3155\n",
            "base word: their; best word so far: dirty; words completed: 59; words remaining: 3154\n",
            "base word: whoop; best word so far: dirty; words completed: 60; words remaining: 3153\n",
            "base word: crump; best word so far: dirty; words completed: 61; words remaining: 3152\n",
            "base word: bless; best word so far: dirty; words completed: 62; words remaining: 3151\n",
            "base word: paper; best word so far: dirty; words completed: 63; words remaining: 3150\n",
            "base word: trail; best word so far: dirty; words completed: 64; words remaining: 3149\n",
            "base word: susan; best word so far: dirty; words completed: 65; words remaining: 3148\n"
          ]
        },
        {
          "output_type": "error",
          "ename": "KeyboardInterrupt",
          "evalue": "ignored",
          "traceback": [
            "\u001b[0;31m---------------------------------------------------------------------------\u001b[0m",
            "\u001b[0;31mKeyboardInterrupt\u001b[0m                         Traceback (most recent call last)",
            "\u001b[0;32m<ipython-input-20-7a92fe592575>\u001b[0m in \u001b[0;36m<module>\u001b[0;34m()\u001b[0m\n\u001b[1;32m     11\u001b[0m   \u001b[0;32mfor\u001b[0m \u001b[0mguess\u001b[0m \u001b[0;32min\u001b[0m \u001b[0mremaining_dict\u001b[0m\u001b[0;34m:\u001b[0m\u001b[0;34m\u001b[0m\u001b[0;34m\u001b[0m\u001b[0m\n\u001b[1;32m     12\u001b[0m     \u001b[0msim\u001b[0m \u001b[0;34m=\u001b[0m \u001b[0;34m[\u001b[0m\u001b[0msimilarity\u001b[0m\u001b[0;34m(\u001b[0m\u001b[0mbase_word\u001b[0m\u001b[0;34m,\u001b[0m \u001b[0mguess\u001b[0m\u001b[0;34m)\u001b[0m\u001b[0;34m]\u001b[0m\u001b[0;34m\u001b[0m\u001b[0;34m\u001b[0m\u001b[0m\n\u001b[0;32m---> 13\u001b[0;31m     \u001b[0mrem\u001b[0m \u001b[0;34m=\u001b[0m \u001b[0mdicts_to_possible_words\u001b[0m\u001b[0;34m(\u001b[0m\u001b[0msim\u001b[0m\u001b[0;34m,\u001b[0m \u001b[0mflw\u001b[0m\u001b[0;34m)\u001b[0m\u001b[0;34m\u001b[0m\u001b[0;34m\u001b[0m\u001b[0m\n\u001b[0m\u001b[1;32m     14\u001b[0m     \u001b[0ms\u001b[0m \u001b[0;34m+=\u001b[0m \u001b[0mlen\u001b[0m\u001b[0;34m(\u001b[0m\u001b[0mrem\u001b[0m\u001b[0;34m)\u001b[0m\u001b[0;34m\u001b[0m\u001b[0;34m\u001b[0m\u001b[0m\n\u001b[1;32m     15\u001b[0m \u001b[0;34m\u001b[0m\u001b[0m\n",
            "\u001b[0;32m<ipython-input-4-c2fda5406911>\u001b[0m in \u001b[0;36mdicts_to_possible_words\u001b[0;34m(dicts, possible_words)\u001b[0m\n\u001b[1;32m      8\u001b[0m   \u001b[0mwords_to_remove\u001b[0m \u001b[0;34m=\u001b[0m \u001b[0;34m[\u001b[0m\u001b[0;34m]\u001b[0m\u001b[0;34m\u001b[0m\u001b[0;34m\u001b[0m\u001b[0m\n\u001b[1;32m      9\u001b[0m   \u001b[0;32mfor\u001b[0m \u001b[0mword\u001b[0m \u001b[0;32min\u001b[0m \u001b[0mwords_still_possible\u001b[0m\u001b[0;34m:\u001b[0m\u001b[0;34m\u001b[0m\u001b[0;34m\u001b[0m\u001b[0m\n\u001b[0;32m---> 10\u001b[0;31m     \u001b[0;32mif\u001b[0m \u001b[0;32mnot\u001b[0m \u001b[0maccept\u001b[0m\u001b[0;34m(\u001b[0m\u001b[0mword\u001b[0m\u001b[0;34m,\u001b[0m \u001b[0mdicts\u001b[0m\u001b[0;34m)\u001b[0m\u001b[0;34m:\u001b[0m\u001b[0;34m\u001b[0m\u001b[0;34m\u001b[0m\u001b[0m\n\u001b[0m\u001b[1;32m     11\u001b[0m       \u001b[0mwords_to_remove\u001b[0m\u001b[0;34m.\u001b[0m\u001b[0mappend\u001b[0m\u001b[0;34m(\u001b[0m\u001b[0mword\u001b[0m\u001b[0;34m)\u001b[0m\u001b[0;34m\u001b[0m\u001b[0;34m\u001b[0m\u001b[0m\n\u001b[1;32m     12\u001b[0m \u001b[0;34m\u001b[0m\u001b[0m\n",
            "\u001b[0;31mKeyboardInterrupt\u001b[0m: "
          ]
        }
      ]
    },
    {
      "cell_type": "code",
      "source": [
        "# sort all scores\n",
        "import pandas as pd\n",
        "score_df = pd.DataFrame(scores, index=['Score']).T\n",
        "score_df.sort_values('Score')"
      ],
      "metadata": {
        "id": "s7NfDKBTbwZW"
      },
      "execution_count": null,
      "outputs": []
    },
    {
      "cell_type": "code",
      "source": [
        ""
      ],
      "metadata": {
        "id": "bRK5dNmgS4nE"
      },
      "execution_count": null,
      "outputs": []
    },
    {
      "cell_type": "markdown",
      "source": [
        "## Vectorized calculation: functions"
      ],
      "metadata": {
        "id": "8Q0NNzBLTbVk"
      }
    },
    {
      "cell_type": "code",
      "source": [
        "import numpy as np\n",
        "l2n = {}\n",
        "alphabet = 'abcdefghijklmnopqrstuvwxyz'\n",
        "for i in range(len(alphabet)):\n",
        "  l2n[alphabet[i]] = i\n",
        "\n",
        "def word_to_vec(word):\n",
        "  \"\"\"\n",
        "    Gives an appropriate vector representation of a word\n",
        "    to be used in vectorized calculations\n",
        "  \"\"\"\n",
        "  g = np.zeros( (len(word) + 2) * 26 ).astype(bool)\n",
        "  for i in range(len(word)):\n",
        "    base = i * 26\n",
        "    add  = l2n[ word[i] ]\n",
        "    g[ base + add ] = 1\n",
        "    g[len(word) * 26 + add ] = 1\n",
        "  g[-26:] = 1 - g[-52:-26]\n",
        "  return g\n",
        "\n",
        "def info(guess, target):\n",
        "  n = 6 * 26\n",
        "  g = np.zeros( 7 * 26 ).astype(int)\n",
        "  g[:n] = guess[:n] * target[:n]\n",
        "  g[n:] = np.maximum( target[n:] - guess[n:] , 0)\n",
        "  return g"
      ],
      "metadata": {
        "id": "mAQoQQXrlCZ2"
      },
      "execution_count": 76,
      "outputs": []
    },
    {
      "cell_type": "markdown",
      "source": [
        "## Vectorized calculation: build word matrix"
      ],
      "metadata": {
        "id": "abMYftDKSuqM"
      }
    },
    {
      "cell_type": "code",
      "source": [
        "flw_list = list(flw)\n",
        "word_matrix = np.array( [word_to_vec(word).reshape(7, 26) for word in flw_list] )\n",
        "word_matrix[0:1, :]"
      ],
      "metadata": {
        "id": "0DfNmxC2r-O8",
        "outputId": "73c66a4c-aeaf-4090-d2f9-fdd6935be15d",
        "colab": {
          "base_uri": "https://localhost:8080/",
          "height": 136
        }
      },
      "execution_count": 80,
      "outputs": [
        {
          "output_type": "error",
          "ename": "SyntaxError",
          "evalue": "ignored",
          "traceback": [
            "\u001b[0;36m  File \u001b[0;32m\"<ipython-input-80-04926f682c79>\"\u001b[0;36m, line \u001b[0;32m3\u001b[0m\n\u001b[0;31m    ^word_matrix[0:1, :]\u001b[0m\n\u001b[0m    ^\u001b[0m\n\u001b[0;31mSyntaxError\u001b[0m\u001b[0;31m:\u001b[0m invalid syntax\n"
          ]
        }
      ]
    },
    {
      "cell_type": "markdown",
      "source": [
        "## Vectorized calculation:"
      ],
      "metadata": {
        "id": "0svmml_F1ou1"
      }
    },
    {
      "cell_type": "code",
      "source": [
        "m            = word_matrix.shape[0]\n",
        "words_killed = 0 # avg number killed\n",
        "best_word.   = ''\n",
        "scores.      = {}\n",
        "\n",
        "for i in range( m ):\n",
        "\n",
        "  # 0 Word we are guessing; word and vectorized form\n",
        "  base_word = flw_list[i]\n",
        "  guess = word_matrix[i:(i + 1), :, :]\n",
        "\n",
        "  # 1 If we guess base_word, what is the \"info content\" given\n",
        "  #   every potential target word?\n",
        "  #   1.1 set up matrix\n",
        "  info_matrix = np.zeros( word_matrix.shape ).astype(bool)\n",
        "  #   1.2 match known letters (position and inclusion)\n",
        "  info_matrix[:, :6, :] = ( guess[:, :6, :] & word_matrix[:, :6, :] )\n",
        "\n",
        "  #   1.3 find letters in the guess that are not present in the other word\n",
        "  info_matrix[:, 6, :] =  np.logical_not(word_matrix[:, 5, :]) & guess[:, 5, :]\n",
        "\n",
        "  # 2 find what words we have killed given any target word\n",
        "  n_words = 0\n",
        "  for j in range( 7, m ): \n",
        "    rem_words = np.zeros_like(info_matrix).astype(bool)\n",
        "\n",
        "    # 2.1 info we would get if this was the target word:\n",
        "    info_unit  = info_matrix[j:(j + 1), :, :]\n",
        "\n",
        "    # 2.1.1 assure we don't have a true somewhere in the info's\n",
        "    #       known letters, but a false in that word\n",
        "    rem_words[:, :6, :] = np.logical_not(\n",
        "          info_unit[:, :6, :] & np.logical_not( word_matrix[:, :6, :] )\n",
        "          )\n",
        "    \n",
        "    # 2.1.2 assure we don't have a letter that we know is _not_ present given\n",
        "    #       info, but which _is_ present in the target word\n",
        "    rem_words[:, 6, :] = np.logical_not( info_unit[:, 6, :] & word_matrix[:, 5, :] )\n",
        "    count = rem_words.min(axis=1).min(axis=1)\n",
        "    count = np.logical_not( count )\n",
        "    n_words += count.sum()\n",
        "\n",
        "\n",
        "  n_words = n_words / m\n",
        "  if n_words > words_killed:\n",
        "    words_killed = n_words\n",
        "    best_word = flw_list[i]\n",
        "  scores[ base_word ] = n_words \n",
        "  \n",
        "  print('base word: {a}; best word so far: {b}; words completed: {c}; words remaining: {d}, killed: {e}'.format(a=base_word, \n",
        "                                                                                                   b=best_word, \n",
        "                                                                                                   c=i,\n",
        "                                                                                                   d=(len(flw_list) - i),\n",
        "                                                                                                   e=n_words)\n",
        "  )\n"
      ],
      "metadata": {
        "id": "TVWAQhQrS10Y",
        "outputId": "6b1c4107-c743-494b-8cc4-594d444270d3",
        "colab": {
          "base_uri": "https://localhost:8080/"
        }
      },
      "execution_count": null,
      "outputs": [
        {
          "output_type": "stream",
          "name": "stdout",
          "text": [
            "base word: scoop; best word so far: scoop; words completed: 0; words remaining: 3212, killed: 2681.5610211706103\n",
            "base word: weiss; best word so far: weiss; words completed: 1; words remaining: 3211, killed: 2786.097135740971\n",
            "base word: denny; best word so far: weiss; words completed: 2; words remaining: 3210, killed: 2756.7826899128268\n",
            "base word: worst; best word so far: worst; words completed: 3; words remaining: 3209, killed: 2931.3032378580324\n",
            "base word: buteo; best word so far: buteo; words completed: 4; words remaining: 3208, killed: 2946.195205479452\n",
            "base word: whiff; best word so far: buteo; words completed: 5; words remaining: 3207, killed: 2226.5977584059774\n",
            "base word: olden; best word so far: olden; words completed: 6; words remaining: 3206, killed: 2993.152864259029\n",
            "base word: dross; best word so far: olden; words completed: 7; words remaining: 3205, killed: 2827.9380448318802\n",
            "base word: hymen; best word so far: olden; words completed: 8; words remaining: 3204, killed: 2890.5423412204236\n",
            "base word: plume; best word so far: olden; words completed: 9; words remaining: 3203, killed: 2886.4626400996262\n",
            "base word: bunny; best word so far: olden; words completed: 10; words remaining: 3202, killed: 2526.194271481943\n",
            "base word: dirty; best word so far: olden; words completed: 11; words remaining: 3201, killed: 2933.0432752179327\n",
            "base word: felon; best word so far: olden; words completed: 12; words remaining: 3200, killed: 2958.6908468244083\n",
            "base word: sadie; best word so far: sadie; words completed: 13; words remaining: 3199, killed: 3044.0071606475717\n",
            "base word: daisy; best word so far: sadie; words completed: 14; words remaining: 3198, killed: 2971.159402241594\n",
            "base word: gruff; best word so far: sadie; words completed: 15; words remaining: 3197, killed: 2417.1245330012453\n",
            "base word: slake; best word so far: sadie; words completed: 16; words remaining: 3196, killed: 3009.549813200498\n",
            "base word: dance; best word so far: sadie; words completed: 17; words remaining: 3195, killed: 3009.676836861768\n",
            "base word: comic; best word so far: sadie; words completed: 18; words remaining: 3194, killed: 2689.4433374844334\n",
            "base word: amide; best word so far: sadie; words completed: 19; words remaining: 3193, killed: 2976.0828144458283\n",
            "base word: idaho; best word so far: sadie; words completed: 20; words remaining: 3192, killed: 2940.3969489414694\n",
            "base word: nolan; best word so far: sadie; words completed: 21; words remaining: 3191, killed: 2908.332191780822\n",
            "base word: clang; best word so far: sadie; words completed: 22; words remaining: 3190, killed: 2946.4632627646324\n",
            "base word: shack; best word so far: sadie; words completed: 23; words remaining: 3189, killed: 2831.046699875467\n",
            "base word: timid; best word so far: sadie; words completed: 24; words remaining: 3188, killed: 2639.961706102117\n",
            "base word: spend; best word so far: sadie; words completed: 25; words remaining: 3187, killed: 2928.0283312577835\n",
            "base word: serve; best word so far: sadie; words completed: 26; words remaining: 3186, killed: 2837.6245330012453\n",
            "base word: elton; best word so far: sadie; words completed: 27; words remaining: 3185, killed: 3031.0809464508093\n",
            "base word: micro; best word so far: sadie; words completed: 28; words remaining: 3184, killed: 2927.271793275218\n",
            "base word: farad; best word so far: sadie; words completed: 29; words remaining: 3183, killed: 2742.9707347447074\n",
            "base word: talus; best word so far: sadie; words completed: 30; words remaining: 3182, killed: 3007.9520547945203\n",
            "base word: black; best word so far: sadie; words completed: 31; words remaining: 3181, killed: 2820.7459526774596\n",
            "base word: quint; best word so far: sadie; words completed: 32; words remaining: 3180, killed: 2777.810398505604\n",
            "base word: boone; best word so far: sadie; words completed: 33; words remaining: 3179, killed: 2835.1522415940226\n",
            "base word: award; best word so far: sadie; words completed: 34; words remaining: 3178, killed: 2718.9897260273974\n",
            "base word: ilona; best word so far: sadie; words completed: 35; words remaining: 3177, killed: 3021.72602739726\n",
            "base word: tithe; best word so far: sadie; words completed: 36; words remaining: 3176, killed: 2854.01400996264\n",
            "base word: befog; best word so far: sadie; words completed: 37; words remaining: 3175, killed: 2777.357098381071\n",
            "base word: upset; best word so far: sadie; words completed: 38; words remaining: 3174, killed: 2924.579389788294\n",
            "base word: fluff; best word so far: sadie; words completed: 39; words remaining: 3173, killed: 2107.0395392278956\n",
            "base word: breve; best word so far: sadie; words completed: 40; words remaining: 3172, killed: 2687.483810709838\n",
            "base word: bette; best word so far: sadie; words completed: 41; words remaining: 3171, killed: 2607.3054171855542\n",
            "base word: neigh; best word so far: sadie; words completed: 42; words remaining: 3170, killed: 2914.909713574097\n",
            "base word: snowy; best word so far: sadie; words completed: 43; words remaining: 3169, killed: 2840.826899128269\n",
            "base word: jesse; best word so far: sadie; words completed: 44; words remaining: 3168, killed: 2455.0974470734745\n",
            "base word: chock; best word so far: sadie; words completed: 45; words remaining: 3167, killed: 2441.703300124533\n",
            "base word: peepy; best word so far: sadie; words completed: 46; words remaining: 3166, killed: 2469.0096513075964\n",
            "base word: pinch; best word so far: sadie; words completed: 47; words remaining: 3165, killed: 2809.0488792029887\n",
            "base word: anion; best word so far: sadie; words completed: 48; words remaining: 3164, killed: 2886.02397260274\n",
            "base word: twice; best word so far: sadie; words completed: 49; words remaining: 3163, killed: 2928.07098381071\n",
            "base word: harem; best word so far: sadie; words completed: 50; words remaining: 3162, killed: 3008.637920298879\n",
            "base word: stilt; best word so far: sadie; words completed: 51; words remaining: 3161, killed: 2852.6201743462016\n"
          ]
        }
      ]
    }
  ]
}